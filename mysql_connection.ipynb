{
 "cells": [
  {
   "cell_type": "code",
   "execution_count": 1,
   "metadata": {},
   "outputs": [
    {
     "name": "stdout",
     "output_type": "stream",
     "text": [
      "Defaulting to user installation because normal site-packages is not writeable\n",
      "Collecting mysql-connector-python\n",
      "  Downloading mysql_connector_python-9.0.0-cp312-cp312-win_amd64.whl.metadata (2.0 kB)\n",
      "Downloading mysql_connector_python-9.0.0-cp312-cp312-win_amd64.whl (14.3 MB)\n",
      "   ---------------------------------------- 0.0/14.3 MB ? eta -:--:--\n",
      "   --- ------------------------------------ 1.3/14.3 MB 11.2 MB/s eta 0:00:02\n",
      "   -------- ------------------------------- 2.9/14.3 MB 7.6 MB/s eta 0:00:02\n",
      "   ----------- ---------------------------- 4.2/14.3 MB 7.0 MB/s eta 0:00:02\n",
      "   -------------- ------------------------- 5.2/14.3 MB 6.6 MB/s eta 0:00:02\n",
      "   ------------------ --------------------- 6.6/14.3 MB 6.5 MB/s eta 0:00:02\n",
      "   --------------------- ------------------ 7.9/14.3 MB 6.4 MB/s eta 0:00:02\n",
      "   ------------------------ --------------- 8.9/14.3 MB 6.4 MB/s eta 0:00:01\n",
      "   ----------------------------- ---------- 10.5/14.3 MB 6.4 MB/s eta 0:00:01\n",
      "   -------------------------------- ------- 11.8/14.3 MB 6.4 MB/s eta 0:00:01\n",
      "   ------------------------------------- -- 13.4/14.3 MB 6.5 MB/s eta 0:00:01\n",
      "   ---------------------------------------  14.2/14.3 MB 6.5 MB/s eta 0:00:01\n",
      "   ---------------------------------------- 14.3/14.3 MB 6.1 MB/s eta 0:00:00\n",
      "Installing collected packages: mysql-connector-python\n",
      "Successfully installed mysql-connector-python-9.0.0\n",
      "Note: you may need to restart the kernel to use updated packages.\n"
     ]
    }
   ],
   "source": [
    "! pip install mysql-connector-python"
   ]
  },
  {
   "cell_type": "code",
   "execution_count": 7,
   "metadata": {},
   "outputs": [
    {
     "name": "stdout",
     "output_type": "stream",
     "text": [
      "Connection Established successfully\n"
     ]
    }
   ],
   "source": [
    "import mysql.connector\n",
    "# Connect to MySQL database\n",
    "conn=mysql.connector.connect\n",
    "conn = mysql.connector.connect(\n",
    "    host=\"localhost\",\n",
    "    user=\"root\",\n",
    "    password=\"vedantunawane22coder\",\n",
    "    database=\"mysql\"\n",
    ")\n",
    "if conn.is_connected():\n",
    "    print(\"Connection Established successfully\")\n",
    "else:\n",
    "     print(\"Connection is not Established successfully\")\n"
   ]
  },
  {
   "cell_type": "code",
   "execution_count": 8,
   "metadata": {},
   "outputs": [],
   "source": [
    "cursor=conn.cursor()\n",
    "cursor.execute('''CREATE TABLE IF NOT EXISTS users (\n",
    "                    id INT AUTO_INCREMENT PRIMARY KEY,\n",
    "                    username VARCHAR(50) NOT NULL,\n",
    "                    email VARCHAR(100) NOT NULL\n",
    "                )''')\n"
   ]
  },
  {
   "cell_type": "code",
   "execution_count": 4,
   "metadata": {},
   "outputs": [],
   "source": [
    "# Example: Insert data\n",
    "sql_insert = \"INSERT INTO users (username, email) VALUES (%s, %s)\"\n",
    "values = (\"Alice\", \"alice@example.com\")\n",
    "cursor.execute(sql_insert, values)\n",
    "conn.commit()"
   ]
  },
  {
   "cell_type": "code",
   "execution_count": 9,
   "metadata": {},
   "outputs": [
    {
     "name": "stdout",
     "output_type": "stream",
     "text": [
      "All users:\n",
      "(1, 'Alice', 'alice@example.com')\n"
     ]
    }
   ],
   "source": [
    "# Example: Select data\n",
    "cursor.execute(\"select *from users\")\n",
    "rows=cursor.fetchall()\n",
    "print(\"All users:\")\n",
    "for row in rows:\n",
    "    print(row)\n",
    "\n"
   ]
  },
  {
   "cell_type": "code",
   "execution_count": 10,
   "metadata": {},
   "outputs": [
    {
     "name": "stdout",
     "output_type": "stream",
     "text": [
      "All users:\n",
      "(1, 'Alice', 'alice@example.com')\n",
      "(2, 'Bob', 'bob@example.com')\n",
      "(3, 'Charlie', 'charlie@example.com')\n"
     ]
    }
   ],
   "source": [
    "# Insert multiple rows\n",
    "multi_values = [\n",
    "    (\"Bob\", \"bob@example.com\"),\n",
    "    (\"Charlie\", \"charlie@example.com\")\n",
    "]\n",
    "cursor.executemany(sql_insert,multi_values)\n",
    "conn.commit()\n",
    "# Selecting data\n",
    "cursor.execute(\"SELECT * FROM users\")\n",
    "rows = cursor.fetchall()\n",
    "\n",
    "print(\"All users:\")\n",
    "for row in rows:\n",
    "    print(row)\n"
   ]
  },
  {
   "cell_type": "code",
   "execution_count": 11,
   "metadata": {},
   "outputs": [
    {
     "name": "stdout",
     "output_type": "stream",
     "text": [
      "All users:\n",
      "(1, 'Alice', 'alice@example.com')\n",
      "(2, 'Bob', 'bob@example.com')\n",
      "(3, 'Charlie', 'charlie_updated@example.com')\n"
     ]
    }
   ],
   "source": [
    "# Update data\n",
    "sql_update = \"UPDATE users SET email = %s WHERE username = %s\"\n",
    "update_values = (\"charlie_updated@example.com\", \"Charlie\")\n",
    "cursor.execute(sql_update, update_values)\n",
    "conn.commit()\n",
    "cursor.execute(\"SELECT * FROM users\")\n",
    "rows = cursor.fetchall()\n",
    "\n",
    "print(\"All users:\")\n",
    "for row in rows:\n",
    "    print(row)"
   ]
  },
  {
   "cell_type": "code",
   "execution_count": 12,
   "metadata": {},
   "outputs": [
    {
     "name": "stdout",
     "output_type": "stream",
     "text": [
      "All users:\n"
     ]
    }
   ],
   "source": [
    "\n",
    "# Delete data\n",
    "sql_delete = \"DELETE FROM users WHERE username = %s\"\n",
    "delete_username = (\"Alice\",)\n",
    "cursor.execute(sql_delete, delete_username)\n",
    "conn.commit()\n",
    "\n",
    "rows = cursor.fetchall()\n",
    "\n",
    "print(\"All users:\")\n",
    "for row in rows:\n",
    "    print(row)\n",
    "\n",
    "# Close cursor and connection\n",
    "cursor.close()\n",
    "conn.close()\n"
   ]
  },
  {
   "cell_type": "code",
   "execution_count": null,
   "metadata": {},
   "outputs": [],
   "source": []
  }
 ],
 "metadata": {
  "kernelspec": {
   "display_name": "Python 3",
   "language": "python",
   "name": "python3"
  },
  "language_info": {
   "codemirror_mode": {
    "name": "ipython",
    "version": 3
   },
   "file_extension": ".py",
   "mimetype": "text/x-python",
   "name": "python",
   "nbconvert_exporter": "python",
   "pygments_lexer": "ipython3",
   "version": "3.12.6"
  }
 },
 "nbformat": 4,
 "nbformat_minor": 2
}
